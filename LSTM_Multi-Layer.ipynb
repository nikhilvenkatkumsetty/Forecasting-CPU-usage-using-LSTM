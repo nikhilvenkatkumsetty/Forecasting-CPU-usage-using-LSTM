{
 "cells": [
  {
   "cell_type": "markdown",
   "metadata": {},
   "source": [
    "# Implementation of LSTM\n",
    "## Variables to Consider\n",
    "<ul>\n",
    "    <li>Hidden Parameters (more seems better until 10)</li>\n",
    "    <li>Hidden Layers (more than 1 seems useless, makes sense because input is few dimensions)</li>\n",
    "    <li>Learning Rate (smaller learning rate requires more epoches to achieve similar results)</li>\n",
    "    <li>Mini-Batch Size (seems to have slight improvement)</li>\n",
    "    <li>Number Epochs</li>\n",
    "    <li>Sequence Length (4)</li>\n",
    "    <li>Length of Prediction (1)</li>\n",
    "</ul>"
   ]
  },
  {
   "cell_type": "code",
   "execution_count": 1,
   "metadata": {
    "colab": {
     "base_uri": "https://localhost:8080/",
     "height": 811
    },
    "colab_type": "code",
    "executionInfo": {
     "elapsed": 13538,
     "status": "error",
     "timestamp": 1590900514206,
     "user": {
      "displayName": "Langston Nashold",
      "photoUrl": "",
      "userId": "03058483142038316977"
     },
     "user_tz": 300
    },
    "id": "VAzzi5jKnjvJ",
    "outputId": "42fe0153-d955-48ba-c761-2319f3dfad81"
   },
   "outputs": [],
   "source": [
    "#!pip uninstall statsmodels\n",
    "#!pip install pmdarima\n",
    "import pandas as pd\n",
    "import numpy as np\n",
    "import matplotlib.pyplot as plt\n",
    "import torch\n",
    "import torch.nn as nn\n",
    "import torch.nn.functional as F\n",
    "import torch.optim as optim\n",
    "from tqdm import tqdm\n",
    "from os import listdir\n",
    "from torch.autograd import Variable\n",
    "from sklearn.preprocessing import MinMaxScaler"
   ]
  },
  {
   "cell_type": "code",
   "execution_count": 2,
   "metadata": {},
   "outputs": [
    {
     "name": "stdout",
     "output_type": "stream",
     "text": [
      "Using CUDA\n"
     ]
    }
   ],
   "source": [
    "if torch.cuda.is_available():\n",
    "    device = torch.device(\"cuda\")\n",
    "    print(\"Using CUDA\")"
   ]
  },
  {
   "cell_type": "code",
   "execution_count": 3,
   "metadata": {
    "colab": {
     "base_uri": "https://localhost:8080/",
     "height": 803
    },
    "colab_type": "code",
    "executionInfo": {
     "elapsed": 771,
     "status": "ok",
     "timestamp": 1590900464686,
     "user": {
      "displayName": "Langston Nashold",
      "photoUrl": "",
      "userId": "03058483142038316977"
     },
     "user_tz": 300
    },
    "id": "DzEKHrLmtEYI",
    "outputId": "b523f4cb-6c47-440e-89a7-0df85cf4fb02"
   },
   "outputs": [],
   "source": [
    "class Parameters():\n",
    "    def __init__(self, num_layers = 1, hidden_size = 10, batch_size = 100, seq_len = 6, pred_len = 3, num_epochs = 20, learning_rate = 0.01, dropout = 1):\n",
    "        self.num_layers = num_layers\n",
    "        self.hidden_size = hidden_size\n",
    "        self.batch_size = batch_size\n",
    "        self.seq_len = seq_len\n",
    "        self.pred_len = pred_len\n",
    "        self.num_epochs = num_epochs\n",
    "        self.learning_rate = learning_rate\n",
    "        self.dropout = dropout\n",
    "    \n",
    "    def __str__(self):\n",
    "        return \"{}-{}-{}-{}-{}-{}-{}-{}\".format(self.num_layers, self.hidden_size, self.batch_size, self.seq_len, self.pred_len, self.num_epochs, self.learning_rate, self.dropout)\n"
   ]
  },
  {
   "cell_type": "markdown",
   "metadata": {
    "colab_type": "text",
    "id": "kXV_VIWvO-he"
   },
   "source": [
    "# Data Loading"
   ]
  },
  {
   "cell_type": "code",
   "execution_count": 25,
   "metadata": {},
   "outputs": [],
   "source": [
    "def readData(file='samples/WY.csv', freq=20, plot=False):\n",
    "    data = pd.read_csv(file, delimiter=',', index_col=0, parse_dates=True)\n",
    "    if plot:\n",
    "        plt.figure(figsize=(20, 4))\n",
    "        plt.plot(data)\n",
    "    \n",
    "    data = data.resample(str(freq) + 'T').mean() # means the bin of size freq\n",
    "    raw_values = np.asarray(data['CpuUtilizationAverage']).reshape(data.shape[0], 1)\n",
    "    return raw_values\n",
    "\n",
    "training_set = readData()"
   ]
  },
  {
   "cell_type": "code",
   "execution_count": 6,
   "metadata": {
    "colab": {},
    "colab_type": "code",
    "id": "ESj__1lcPQzg",
    "scrolled": true
   },
   "outputs": [],
   "source": [
    "from torch.utils.data import TensorDataset, DataLoader\n",
    "\n",
    "# Struct used to store intermediate data variables\n",
    "class Data:\n",
    "    pass\n",
    "\n",
    "# Generates data using the sliding window method with variable sequene and prediction length\n",
    "def large_sliding_windows(data, seq_length, pred_length=2):\n",
    "    x = []\n",
    "    y = []\n",
    "\n",
    "    for i in range(len(data)-seq_length-pred_length+1):\n",
    "        _x = data[i:(i+seq_length)]\n",
    "        _y = data[i+seq_length:i+seq_length+pred_length]\n",
    "        x.append(_x)\n",
    "        y.append(_y)\n",
    "\n",
    "    return np.array(x),np.array(y)\n",
    "\n",
    "# Generates data using the sliding window method with variable sequence length\n",
    "def sliding_windows(data, seq_length):\n",
    "    x = []\n",
    "    y = []\n",
    "\n",
    "    for i in range(len(data)-seq_length-1):\n",
    "        _x = data[i:(i+seq_length)]\n",
    "        _y = data[i+seq_length]\n",
    "        x.append(_x)\n",
    "        y.append(_y)\n",
    "\n",
    "    return np.array(x),np.array(y)"
   ]
  },
  {
   "cell_type": "code",
   "execution_count": 29,
   "metadata": {},
   "outputs": [
    {
     "data": {
      "text/plain": [
       "<__main__.Data at 0x7fe7c1b7b490>"
      ]
     },
     "execution_count": 29,
     "metadata": {},
     "output_type": "execute_result"
    }
   ],
   "source": [
    "# Generates the training/test set and stores in d using provided training set and parameters\n",
    "def generateData(training_set, d, params):\n",
    "    d.sc = MinMaxScaler()\n",
    "    training_data = d.sc.fit_transform(training_set) # normalizes the data\n",
    "\n",
    "    x, y = large_sliding_windows(training_data, params.seq_len, params.pred_len)\n",
    "\n",
    "    d.max_size = int(params.batch_size*(len(y)//params.batch_size))\n",
    "    d.train_size = int(params.batch_size*(d.max_size*(0.8)//params.batch_size))\n",
    "    d.test_size = d.max_size-d.train_size\n",
    "\n",
    "    d.dataX = Variable(torch.Tensor(np.array(x[0:d.max_size])))\n",
    "    d.dataY = Variable(torch.Tensor(np.array(y[0:d.max_size])))\n",
    "\n",
    "    d.trainX = Variable(torch.Tensor(np.array(x[0:d.train_size]))).to(device)\n",
    "    d.trainY = Variable(torch.Tensor(np.array(y[0:d.train_size]))).to(device)\n",
    "    train_data = TensorDataset(d.trainX, d.trainY)\n",
    "    d.train_loader = DataLoader(train_data, shuffle=False, batch_size=params.batch_size)\n",
    "\n",
    "    d.testX = Variable(torch.Tensor(np.array(x[d.train_size:d.max_size]))).to(device)\n",
    "    d.testY = Variable(torch.Tensor(np.array(y[d.train_size:d.max_size]))).to(device)\n",
    "    test_data = TensorDataset(d.dataX, d.dataY)\n",
    "    d.test_loader = DataLoader(test_data, shuffle=False, batch_size=params.batch_size)\n",
    "    return d\n",
    "\n",
    "data = Data()\n",
    "params = Parameters()\n",
    "generateData(training_set, data, params)"
   ]
  },
  {
   "cell_type": "markdown",
   "metadata": {},
   "source": [
    "# Generate Naive Examples"
   ]
  },
  {
   "cell_type": "code",
   "execution_count": 32,
   "metadata": {},
   "outputs": [],
   "source": [
    "def generateNaive(d, params):\n",
    "    # always predicts the last training example\n",
    "    global_naive = np.full(d.testY.shape, d.trainX[-1][-1].item())\n",
    "    \n",
    "    # always predicts the average of seen training examples\n",
    "    global_mean = np.full(d.testY.shape, d.trainY.mean().item())\n",
    "    \n",
    "    # predicts the last seen value of the sliding window\n",
    "    local_naive = np.ones(d.testY.shape)\n",
    "    for row in local_naive:\n",
    "        for i in range(params.pred_len):\n",
    "            row[i] = d.testX[i][-1].item()\n",
    "    local_mean = np.ones(d.testY.shape)\n",
    "    \n",
    "    # predicts the average of the values seen in the last sliding window\n",
    "    for row, test_row in zip(local_mean, d.testX):\n",
    "        for i in range(params.pred_len):\n",
    "            row[i] = np.mean(test_row.cpu().numpy())\n",
    "\n",
    "    denormalize=True\n",
    "    naives = [global_naive, global_mean, local_naive, local_mean]\n",
    "    \n",
    "    for naive in naives:\n",
    "        naive = naive.reshape(naive.shape[:-2]+ (-1,))\n",
    "        if denormalize: naive = d.sc.inverse_transform(naive)\n",
    "\n",
    "    return naives\n",
    "\n",
    "naives  = generateNaive(data, params)"
   ]
  },
  {
   "cell_type": "markdown",
   "metadata": {},
   "source": [
    "# LSTM Model"
   ]
  },
  {
   "cell_type": "code",
   "execution_count": 13,
   "metadata": {
    "colab": {},
    "colab_type": "code",
    "id": "d3dTo7J9PWI5"
   },
   "outputs": [],
   "source": [
    "class LSTM(nn.Module):\n",
    "    def __init__(self, output_size, input_size, hidden_dim, n_layers, drop_prob=0):\n",
    "        super(LSTM, self).__init__()\n",
    "        self.output_size = output_size\n",
    "        self.n_layers = n_layers\n",
    "        self.hidden_dim = hidden_dim\n",
    "        \n",
    "        self.lstm = nn.LSTM(input_size, hidden_dim, n_layers, dropout=drop_prob, batch_first=True)\n",
    "        self.dropout = nn.Dropout(drop_prob)\n",
    "        self.fc = nn.Linear(hidden_dim, output_size)\n",
    "        \n",
    "    def forward(self, x, hidden):\n",
    "        batch_size = x.size(0)\n",
    "        lstm_out, hidden = self.lstm(x, hidden)\n",
    "        \n",
    "        # manually takes the last hidden layer and passes through linear transform\n",
    "        h_out = hidden[0][-1].view(-1, self.hidden_dim)\n",
    "        out = self.fc(h_out)\n",
    "        return out, hidden\n",
    "    \n",
    "    # initializes weights and biases to 0\n",
    "    def init_hidden(self, batch_size):\n",
    "        weight = next(self.parameters()).data\n",
    "        hidden = (weight.new(self.n_layers, batch_size, self.hidden_dim).zero_().to(device),\n",
    "                      weight.new(self.n_layers, batch_size, self.hidden_dim).zero_().to(device))\n",
    "        return hidden"
   ]
  },
  {
   "cell_type": "markdown",
   "metadata": {
    "colab_type": "text",
    "id": "9AO0JvNKPZcE"
   },
   "source": [
    "# Training"
   ]
  },
  {
   "cell_type": "code",
   "execution_count": 42,
   "metadata": {
    "colab": {},
    "colab_type": "code",
    "id": "9ARlW89KPanR"
   },
   "outputs": [
    {
     "name": "stdout",
     "output_type": "stream",
     "text": [
      "Epoch: 0, loss: 0.57721\n",
      "Epoch: 10, loss: 0.00352\n",
      "Epoch: 20, loss: 0.00335\n"
     ]
    }
   ],
   "source": [
    "class Model:\n",
    "    def __init__(self, lstm, h, criterion):\n",
    "        self.lstm, self.h, self.criterion = lstm, h, criterion\n",
    "\n",
    "def train(d, params, print_every=10):\n",
    "    input_size = 1 # dimensions not length of input\n",
    "\n",
    "    lstm = LSTM(params.pred_len, input_size, params.hidden_size, params.num_layers, params.dropout)\n",
    "    lstm.to(device)\n",
    "\n",
    "    criterion = torch.nn.MSELoss()    # mean-squared error for regression\n",
    "    optimizer = torch.optim.Adam(lstm.parameters(), lr=params.learning_rate)\n",
    "\n",
    "    h = lstm.init_hidden(params.batch_size)\n",
    "\n",
    "    # Train the model\n",
    "    for epoch in range(params.num_epochs):\n",
    "        for x, y in d.train_loader:\n",
    "            h = tuple([e.data for e in h])\n",
    "            outputs, h = lstm(x, h)\n",
    "            optimizer.zero_grad() # remove stored gradient\n",
    "\n",
    "            # obtain the loss function\n",
    "            y = y.reshape(y.shape[:-2] + (-1,))\n",
    "            loss = criterion(outputs, y)\n",
    "\n",
    "            loss.backward()\n",
    "\n",
    "            optimizer.step()\n",
    "        if print_every > 0 and epoch % print_every == 0:\n",
    "            print(\"Epoch: %d, loss: %1.5f\" % (epoch, loss.item()))\n",
    "            \n",
    "    model = Model(lstm, h, criterion)\n",
    "    return model\n",
    "            \n",
    "model = train(data, params)"
   ]
  },
  {
   "cell_type": "markdown",
   "metadata": {
    "colab_type": "text",
    "id": "aUVXq6eYPbnx"
   },
   "source": [
    "Testing"
   ]
  },
  {
   "cell_type": "code",
   "execution_count": 20,
   "metadata": {
    "colab": {},
    "colab_type": "code",
    "id": "nc8WL0XuPcxa"
   },
   "outputs": [
    {
     "data": {
      "text/plain": [
       "<Figure size 432x288 with 0 Axes>"
      ]
     },
     "metadata": {},
     "output_type": "display_data"
    },
    {
     "data": {
      "image/png": "[encoded data removed]",
      "text/plain": [
       "<Figure size 1152x576 with 1 Axes>"
      ]
     },
     "metadata": {
      "needs_background": "light"
     },
     "output_type": "display_data"
    }
   ],
   "source": [
    "def test(model, d, params, show_plot=True):\n",
    "    model.lstm.eval()\n",
    "    test_predict = np.zeros((data.max_size, params.pred_len))\n",
    "    test_losses = []\n",
    "\n",
    "    for i, (x, y) in enumerate(d.test_loader):\n",
    "        model.h = tuple([each.data for each in model.h])\n",
    "        x, y = x.to(device), y.to(device)\n",
    "        output, model.h = model.lstm(x, model.h)\n",
    "        y = y.reshape(y.shape[:-2] + (-1,))\n",
    "        test_loss = model.criterion(output.squeeze(), y)\n",
    "        test_losses.append(test_loss.item())\n",
    "        for j in range(params.batch_size):\n",
    "            for k in range(params.pred_len):\n",
    "                test_predict[j+i*100][k] = output[j][k].item()\n",
    "\n",
    "    data_predict = test_predict\n",
    "    dataY_plot = d.dataY.data.numpy()\n",
    "\n",
    "    dataY_plot = dataY_plot.reshape(dataY_plot.shape[:-2] + (-1,))\n",
    "\n",
    "    d.data_predict_transform = d.sc.inverse_transform(data_predict)\n",
    "    d.dataY_plot_transform = d.sc.inverse_transform(dataY_plot)\n",
    "    \n",
    "    if show_plot: plotResults(d)\n",
    "    \n",
    "    return (d.data_predict_transform[d.train_size:], d.dataY_plot_transform[d.train_size:])\n",
    "\n",
    "def plotResults(d, type=1):\n",
    "    if type == 0:\n",
    "        plt.clf()\n",
    "        plt.figure(figsize=(16, 8))\n",
    "        plt.axvline(x=d.train_size, c='r', linestyle='--') # data shift from train to test\n",
    "        plt.plot(d.dataY_plot_transform)\n",
    "        plt.plot(d.data_predict_transform)\n",
    "        plt.ylabel(\"CPU Usage\")\n",
    "        plt.xlabel(\"Time\")\n",
    "        plt.show()\n",
    "    else if type == 1:\n",
    "        plt.clf()\n",
    "        xs = [i for i in range(0, 600, 1)]\n",
    "        plt.plot(d.dataY_plot_transform[400:800], c='blue')\n",
    "        xpts = [i for i in range(d.train_size-400, d.dataY_plot_transform.shape[0]-400, 1)]\n",
    "        plt.plot(xs[400:], d.data_predict_transform[d.train_size:], c='green')\n",
    "        plt.plot(xs[400:], d.dataY_plot_transform[800:], c='blue', alpha=0.3)\n",
    "        plt.title('CPU Prediction with LSTM')\n",
    "        plt.xlabel('Time')\n",
    "        plt.ylabel('CPU Usage')\n",
    "        plt.show()\n",
    "\n",
    "\n",
    "preds, labels = test(model, data, params)\n"
   ]
  },
  {
   "cell_type": "markdown",
   "metadata": {
    "colab_type": "text",
    "id": "8GYO9JliaG2g"
   },
   "source": [
    "Image may be unclear for models predicting more than a single point at a time"
   ]
  },
  {
   "cell_type": "markdown",
   "metadata": {
    "colab_type": "text",
    "id": "JAA4fI6vaLvg"
   },
   "source": [
    "# Accuracy Calculations"
   ]
  },
  {
   "cell_type": "code",
   "execution_count": 23,
   "metadata": {
    "colab": {},
    "colab_type": "code",
    "id": "rISXuL-3I1Bl"
   },
   "outputs": [
    {
     "name": "stdout",
     "output_type": "stream",
     "text": [
      "----- LSTM Results -----\n",
      "MAE - 2.955980352728369\n",
      "RMSE - 4.7775365374928045\n",
      "MAPE - 0.2978781019613628\n",
      "\n",
      "----- Naive Results -----\n",
      "MAE - 10.70703690757354\n",
      "RMSE - 12.006722108282233\n",
      "MAPE - 0.9905650995408662\n",
      "MAE - 10.706198307474454\n",
      "RMSE - 12.00597428967513\n",
      "MAPE - 0.9904736793530264\n",
      "MAE - 10.697892005344231\n",
      "RMSE - 11.998563934472426\n",
      "MAPE - 0.9895688326359323\n",
      "MAE - 10.704093098569041\n",
      "RMSE - 11.995424731051372\n",
      "MAPE - 0.9912754944039439\n"
     ]
    }
   ],
   "source": [
    "# Mean Average Percent Error\n",
    "def mape(preds, labels, prnt=False):\n",
    "    preds = preds.flatten()\n",
    "    labels = labels.flatten()\n",
    "    err = 0\n",
    "    for i, (pred, label) in enumerate(zip(preds, labels)):\n",
    "        denum = np.absolute(label) if np.round(label) !=0 else 50 # accounts for divide by 0 error\n",
    "        err += (np.absolute(pred-label) / denum)\n",
    "            \n",
    "    err /= preds.shape[0]\n",
    "    if prnt: print(\"MAPE - {}\".format(err))\n",
    "    return err\n",
    "    \n",
    "# Brier Score or Mean Squared Error\n",
    "def mse(preds, labels, prnt=False):\n",
    "    preds = preds.flatten()\n",
    "    labels = labels.flatten()\n",
    "    err = np.sum(np.power(preds-labels, 2)) / preds.shape[0]\n",
    "    if prnt: print(\"MSE - {}\".format(err))\n",
    "    return err\n",
    "    \n",
    "# Mean Average Error\n",
    "def mae(preds, labels, prnt=False):\n",
    "    preds = preds.flatten()\n",
    "    labels = labels.flatten()\n",
    "    err = (np.sum(np.absolute(preds-labels))) / preds.shape[0]\n",
    "    if prnt: print(\"MAE - {}\".format(err))\n",
    "    return err\n",
    "    \n",
    "# Root Mean Squared Error\n",
    "def rmse(preds, labels, prnt=False):\n",
    "    err = np.power(mse(preds, labels), 0.5)\n",
    "    if prnt: print(\"RMSE - {}\".format(err))\n",
    "    return err\n",
    "\n",
    "# Symmetric Mean Absolute Percentage Error\n",
    "# some issues in bias, but commonly used\n",
    "def smape(preds, labels, prnt=False):\n",
    "    preds = preds.flatten()\n",
    "    labels = labels.flatten()\n",
    "    err = 0\n",
    "    for (pred, label) in zip(preds, labels):\n",
    "        denum = np.absolute(pred)+np.absolute(label) if np.absolute(pred)+np.absolute(label) !=0 else np.max(labels) #check!!\n",
    "        err += (np.absolute(pred-label) / denum)\n",
    "    err /= preds.shape[0]\n",
    "    if prnt: print(\"SMAPE - {}\".format(err))\n",
    "    return err\n",
    "\n",
    "# errors = [mape, mse, rmse, smape]\n",
    "errors = [mae, rmse, mape]\n",
    "\n",
    "def print_errors(preds, labels, prnt=False):\n",
    "    err_results = []\n",
    "    for error in errors:\n",
    "        err_results.append(error(preds, labels, prnt))\n",
    "    return err_results\n",
    "    \n",
    "print(\"----- LSTM Results -----\")\n",
    "print_errors(preds, labels, prnt=True)\n",
    "print(\"\\n----- Naive Results -----\")\n",
    "for naive in naives:\n",
    "    print_errors(naive, labels, prnt=True)"
   ]
  },
  {
   "cell_type": "markdown",
   "metadata": {},
   "source": [
    "# Testing Script\n",
    "Parameters(num_layers, hidden_size, batch_size, seq_len, pred_len, epochs, learning_rate, dropout)"
   ]
  },
  {
   "cell_type": "code",
   "execution_count": 46,
   "metadata": {
    "scrolled": true
   },
   "outputs": [
    {
     "name": "stderr",
     "output_type": "stream",
     "text": [
      "  2%|▏         | 4/176 [02:17<1:38:45, 34.45s/it]/home/rayan/.local/lib/python3.8/site-packages/torch/nn/modules/rnn.py:47: UserWarning: dropout option adds dropout after all but last recurrent layer, so non-zero dropout expects num_layers greater than 1, but got dropout=0.1 and num_layers=1\n",
      "  warnings.warn(\"dropout option adds dropout after all but last \"\n",
      "/home/rayan/.local/lib/python3.8/site-packages/torch/nn/modules/rnn.py:47: UserWarning: dropout option adds dropout after all but last recurrent layer, so non-zero dropout expects num_layers greater than 1, but got dropout=0.1 and num_layers=1\n",
      "  warnings.warn(\"dropout option adds dropout after all but last \"\n",
      "/home/rayan/.local/lib/python3.8/site-packages/torch/nn/modules/rnn.py:47: UserWarning: dropout option adds dropout after all but last recurrent layer, so non-zero dropout expects num_layers greater than 1, but got dropout=0.1 and num_layers=1\n",
      "  warnings.warn(\"dropout option adds dropout after all but last \"\n",
      "/home/rayan/.local/lib/python3.8/site-packages/torch/nn/modules/rnn.py:47: UserWarning: dropout option adds dropout after all but last recurrent layer, so non-zero dropout expects num_layers greater than 1, but got dropout=0.1 and num_layers=1\n",
      "  warnings.warn(\"dropout option adds dropout after all but last \"\n",
      "/home/rayan/.local/lib/python3.8/site-packages/torch/nn/modules/rnn.py:47: UserWarning: dropout option adds dropout after all but last recurrent layer, so non-zero dropout expects num_layers greater than 1, but got dropout=0.1 and num_layers=1\n",
      "  warnings.warn(\"dropout option adds dropout after all but last \"\n",
      "/home/rayan/.local/lib/python3.8/site-packages/torch/nn/modules/rnn.py:47: UserWarning: dropout option adds dropout after all but last recurrent layer, so non-zero dropout expects num_layers greater than 1, but got dropout=0.1 and num_layers=1\n",
      "  warnings.warn(\"dropout option adds dropout after all but last \"\n",
      "/home/rayan/.local/lib/python3.8/site-packages/torch/nn/modules/rnn.py:47: UserWarning: dropout option adds dropout after all but last recurrent layer, so non-zero dropout expects num_layers greater than 1, but got dropout=0.1 and num_layers=1\n",
      "  warnings.warn(\"dropout option adds dropout after all but last \"\n",
      "/home/rayan/.local/lib/python3.8/site-packages/torch/nn/modules/rnn.py:47: UserWarning: dropout option adds dropout after all but last recurrent layer, so non-zero dropout expects num_layers greater than 1, but got dropout=0.1 and num_layers=1\n",
      "  warnings.warn(\"dropout option adds dropout after all but last \"\n",
      "/home/rayan/.local/lib/python3.8/site-packages/torch/nn/modules/rnn.py:47: UserWarning: dropout option adds dropout after all but last recurrent layer, so non-zero dropout expects num_layers greater than 1, but got dropout=0.1 and num_layers=1\n",
      "  warnings.warn(\"dropout option adds dropout after all but last \"\n",
      "/home/rayan/.local/lib/python3.8/site-packages/torch/nn/modules/rnn.py:47: UserWarning: dropout option adds dropout after all but last recurrent layer, so non-zero dropout expects num_layers greater than 1, but got dropout=0.1 and num_layers=1\n",
      "  warnings.warn(\"dropout option adds dropout after all but last \"\n",
      "/home/rayan/.local/lib/python3.8/site-packages/torch/nn/modules/rnn.py:47: UserWarning: dropout option adds dropout after all but last recurrent layer, so non-zero dropout expects num_layers greater than 1, but got dropout=0.1 and num_layers=1\n",
      "  warnings.warn(\"dropout option adds dropout after all but last \"\n",
      "/home/rayan/.local/lib/python3.8/site-packages/torch/nn/modules/rnn.py:47: UserWarning: dropout option adds dropout after all but last recurrent layer, so non-zero dropout expects num_layers greater than 1, but got dropout=0.1 and num_layers=1\n",
      "  warnings.warn(\"dropout option adds dropout after all but last \"\n",
      "/home/rayan/.local/lib/python3.8/site-packages/torch/nn/modules/rnn.py:47: UserWarning: dropout option adds dropout after all but last recurrent layer, so non-zero dropout expects num_layers greater than 1, but got dropout=0.1 and num_layers=1\n",
      "  warnings.warn(\"dropout option adds dropout after all but last \"\n",
      "/home/rayan/.local/lib/python3.8/site-packages/torch/nn/modules/rnn.py:47: UserWarning: dropout option adds dropout after all but last recurrent layer, so non-zero dropout expects num_layers greater than 1, but got dropout=0.1 and num_layers=1\n",
      "  warnings.warn(\"dropout option adds dropout after all but last \"\n",
      "/home/rayan/.local/lib/python3.8/site-packages/torch/nn/modules/rnn.py:47: UserWarning: dropout option adds dropout after all but last recurrent layer, so non-zero dropout expects num_layers greater than 1, but got dropout=0.1 and num_layers=1\n",
      "  warnings.warn(\"dropout option adds dropout after all but last \"\n",
      "/home/rayan/.local/lib/python3.8/site-packages/torch/nn/modules/rnn.py:47: UserWarning: dropout option adds dropout after all but last recurrent layer, so non-zero dropout expects num_layers greater than 1, but got dropout=0.1 and num_layers=1\n",
      "  warnings.warn(\"dropout option adds dropout after all but last \"\n",
      "/home/rayan/.local/lib/python3.8/site-packages/torch/nn/modules/rnn.py:47: UserWarning: dropout option adds dropout after all but last recurrent layer, so non-zero dropout expects num_layers greater than 1, but got dropout=0.1 and num_layers=1\n",
      "  warnings.warn(\"dropout option adds dropout after all but last \"\n",
      "/home/rayan/.local/lib/python3.8/site-packages/torch/nn/modules/rnn.py:47: UserWarning: dropout option adds dropout after all but last recurrent layer, so non-zero dropout expects num_layers greater than 1, but got dropout=0.1 and num_layers=1\n",
      "  warnings.warn(\"dropout option adds dropout after all but last \"\n",
      "/home/rayan/.local/lib/python3.8/site-packages/torch/nn/modules/rnn.py:47: UserWarning: dropout option adds dropout after all but last recurrent layer, so non-zero dropout expects num_layers greater than 1, but got dropout=0.1 and num_layers=1\n",
      "  warnings.warn(\"dropout option adds dropout after all but last \"\n",
      "  2%|▏         | 4/176 [02:30<1:47:58, 37.67s/it]\n"
     ]
    },
    {
     "ename": "KeyboardInterrupt",
     "evalue": "",
     "output_type": "error",
     "traceback": [
      "\u001b[0;31m---------------------------------------------------------------------------\u001b[0m",
      "\u001b[0;31mKeyboardInterrupt\u001b[0m                         Traceback (most recent call last)",
      "\u001b[0;32m<ipython-input-46-cc286246f045>\u001b[0m in \u001b[0;36m<module>\u001b[0;34m\u001b[0m\n\u001b[1;32m     34\u001b[0m \u001b[0;34m\u001b[0m\u001b[0m\n\u001b[1;32m     35\u001b[0m         \u001b[0;31m# Train Model\u001b[0m\u001b[0;34m\u001b[0m\u001b[0;34m\u001b[0m\u001b[0;34m\u001b[0m\u001b[0m\n\u001b[0;32m---> 36\u001b[0;31m         \u001b[0mmodel\u001b[0m \u001b[0;34m=\u001b[0m \u001b[0mtrain\u001b[0m\u001b[0;34m(\u001b[0m\u001b[0mdata\u001b[0m\u001b[0;34m,\u001b[0m \u001b[0mparams\u001b[0m\u001b[0;34m,\u001b[0m \u001b[0mprint_every\u001b[0m\u001b[0;34m=\u001b[0m\u001b[0;34m-\u001b[0m\u001b[0;36m1\u001b[0m\u001b[0;34m)\u001b[0m\u001b[0;34m\u001b[0m\u001b[0;34m\u001b[0m\u001b[0m\n\u001b[0m\u001b[1;32m     37\u001b[0m \u001b[0;34m\u001b[0m\u001b[0m\n\u001b[1;32m     38\u001b[0m         \u001b[0;31m# Test Model\u001b[0m\u001b[0;34m\u001b[0m\u001b[0;34m\u001b[0m\u001b[0;34m\u001b[0m\u001b[0m\n",
      "\u001b[0;32m<ipython-input-42-fa50bb52017a>\u001b[0m in \u001b[0;36mtrain\u001b[0;34m(d, params, print_every)\u001b[0m\n\u001b[1;32m     16\u001b[0m     \u001b[0;31m# Train the model\u001b[0m\u001b[0;34m\u001b[0m\u001b[0;34m\u001b[0m\u001b[0;34m\u001b[0m\u001b[0m\n\u001b[1;32m     17\u001b[0m     \u001b[0;32mfor\u001b[0m \u001b[0mepoch\u001b[0m \u001b[0;32min\u001b[0m \u001b[0mrange\u001b[0m\u001b[0;34m(\u001b[0m\u001b[0mparams\u001b[0m\u001b[0;34m.\u001b[0m\u001b[0mnum_epochs\u001b[0m\u001b[0;34m)\u001b[0m\u001b[0;34m:\u001b[0m\u001b[0;34m\u001b[0m\u001b[0;34m\u001b[0m\u001b[0m\n\u001b[0;32m---> 18\u001b[0;31m         \u001b[0;32mfor\u001b[0m \u001b[0mx\u001b[0m\u001b[0;34m,\u001b[0m \u001b[0my\u001b[0m \u001b[0;32min\u001b[0m \u001b[0md\u001b[0m\u001b[0;34m.\u001b[0m\u001b[0mtrain_loader\u001b[0m\u001b[0;34m:\u001b[0m\u001b[0;34m\u001b[0m\u001b[0;34m\u001b[0m\u001b[0m\n\u001b[0m\u001b[1;32m     19\u001b[0m             \u001b[0mh\u001b[0m \u001b[0;34m=\u001b[0m \u001b[0mtuple\u001b[0m\u001b[0;34m(\u001b[0m\u001b[0;34m[\u001b[0m\u001b[0me\u001b[0m\u001b[0;34m.\u001b[0m\u001b[0mdata\u001b[0m \u001b[0;32mfor\u001b[0m \u001b[0me\u001b[0m \u001b[0;32min\u001b[0m \u001b[0mh\u001b[0m\u001b[0;34m]\u001b[0m\u001b[0;34m)\u001b[0m\u001b[0;34m\u001b[0m\u001b[0;34m\u001b[0m\u001b[0m\n\u001b[1;32m     20\u001b[0m             \u001b[0moutputs\u001b[0m\u001b[0;34m,\u001b[0m \u001b[0mh\u001b[0m \u001b[0;34m=\u001b[0m \u001b[0mlstm\u001b[0m\u001b[0;34m(\u001b[0m\u001b[0mx\u001b[0m\u001b[0;34m,\u001b[0m \u001b[0mh\u001b[0m\u001b[0;34m)\u001b[0m\u001b[0;34m\u001b[0m\u001b[0;34m\u001b[0m\u001b[0m\n",
      "\u001b[0;32m~/.local/lib/python3.8/site-packages/torch/utils/data/dataloader.py\u001b[0m in \u001b[0;36m__next__\u001b[0;34m(self)\u001b[0m\n\u001b[1;32m    343\u001b[0m \u001b[0;34m\u001b[0m\u001b[0m\n\u001b[1;32m    344\u001b[0m     \u001b[0;32mdef\u001b[0m \u001b[0m__next__\u001b[0m\u001b[0;34m(\u001b[0m\u001b[0mself\u001b[0m\u001b[0;34m)\u001b[0m\u001b[0;34m:\u001b[0m\u001b[0;34m\u001b[0m\u001b[0;34m\u001b[0m\u001b[0m\n\u001b[0;32m--> 345\u001b[0;31m         \u001b[0mdata\u001b[0m \u001b[0;34m=\u001b[0m \u001b[0mself\u001b[0m\u001b[0;34m.\u001b[0m\u001b[0m_next_data\u001b[0m\u001b[0;34m(\u001b[0m\u001b[0;34m)\u001b[0m\u001b[0;34m\u001b[0m\u001b[0;34m\u001b[0m\u001b[0m\n\u001b[0m\u001b[1;32m    346\u001b[0m         \u001b[0mself\u001b[0m\u001b[0;34m.\u001b[0m\u001b[0m_num_yielded\u001b[0m \u001b[0;34m+=\u001b[0m \u001b[0;36m1\u001b[0m\u001b[0;34m\u001b[0m\u001b[0;34m\u001b[0m\u001b[0m\n\u001b[1;32m    347\u001b[0m         \u001b[0;32mif\u001b[0m \u001b[0mself\u001b[0m\u001b[0;34m.\u001b[0m\u001b[0m_dataset_kind\u001b[0m \u001b[0;34m==\u001b[0m \u001b[0m_DatasetKind\u001b[0m\u001b[0;34m.\u001b[0m\u001b[0mIterable\u001b[0m \u001b[0;32mand\u001b[0m\u001b[0;31m \u001b[0m\u001b[0;31m\\\u001b[0m\u001b[0;34m\u001b[0m\u001b[0;34m\u001b[0m\u001b[0m\n",
      "\u001b[0;32m~/.local/lib/python3.8/site-packages/torch/utils/data/dataloader.py\u001b[0m in \u001b[0;36m_next_data\u001b[0;34m(self)\u001b[0m\n\u001b[1;32m    383\u001b[0m     \u001b[0;32mdef\u001b[0m \u001b[0m_next_data\u001b[0m\u001b[0;34m(\u001b[0m\u001b[0mself\u001b[0m\u001b[0;34m)\u001b[0m\u001b[0;34m:\u001b[0m\u001b[0;34m\u001b[0m\u001b[0;34m\u001b[0m\u001b[0m\n\u001b[1;32m    384\u001b[0m         \u001b[0mindex\u001b[0m \u001b[0;34m=\u001b[0m \u001b[0mself\u001b[0m\u001b[0;34m.\u001b[0m\u001b[0m_next_index\u001b[0m\u001b[0;34m(\u001b[0m\u001b[0;34m)\u001b[0m  \u001b[0;31m# may raise StopIteration\u001b[0m\u001b[0;34m\u001b[0m\u001b[0;34m\u001b[0m\u001b[0m\n\u001b[0;32m--> 385\u001b[0;31m         \u001b[0mdata\u001b[0m \u001b[0;34m=\u001b[0m \u001b[0mself\u001b[0m\u001b[0;34m.\u001b[0m\u001b[0m_dataset_fetcher\u001b[0m\u001b[0;34m.\u001b[0m\u001b[0mfetch\u001b[0m\u001b[0;34m(\u001b[0m\u001b[0mindex\u001b[0m\u001b[0;34m)\u001b[0m  \u001b[0;31m# may raise StopIteration\u001b[0m\u001b[0;34m\u001b[0m\u001b[0;34m\u001b[0m\u001b[0m\n\u001b[0m\u001b[1;32m    386\u001b[0m         \u001b[0;32mif\u001b[0m \u001b[0mself\u001b[0m\u001b[0;34m.\u001b[0m\u001b[0m_pin_memory\u001b[0m\u001b[0;34m:\u001b[0m\u001b[0;34m\u001b[0m\u001b[0;34m\u001b[0m\u001b[0m\n\u001b[1;32m    387\u001b[0m             \u001b[0mdata\u001b[0m \u001b[0;34m=\u001b[0m \u001b[0m_utils\u001b[0m\u001b[0;34m.\u001b[0m\u001b[0mpin_memory\u001b[0m\u001b[0;34m.\u001b[0m\u001b[0mpin_memory\u001b[0m\u001b[0;34m(\u001b[0m\u001b[0mdata\u001b[0m\u001b[0;34m)\u001b[0m\u001b[0;34m\u001b[0m\u001b[0;34m\u001b[0m\u001b[0m\n",
      "\u001b[0;32m~/.local/lib/python3.8/site-packages/torch/utils/data/_utils/fetch.py\u001b[0m in \u001b[0;36mfetch\u001b[0;34m(self, possibly_batched_index)\u001b[0m\n\u001b[1;32m     45\u001b[0m         \u001b[0;32melse\u001b[0m\u001b[0;34m:\u001b[0m\u001b[0;34m\u001b[0m\u001b[0;34m\u001b[0m\u001b[0m\n\u001b[1;32m     46\u001b[0m             \u001b[0mdata\u001b[0m \u001b[0;34m=\u001b[0m \u001b[0mself\u001b[0m\u001b[0;34m.\u001b[0m\u001b[0mdataset\u001b[0m\u001b[0;34m[\u001b[0m\u001b[0mpossibly_batched_index\u001b[0m\u001b[0;34m]\u001b[0m\u001b[0;34m\u001b[0m\u001b[0;34m\u001b[0m\u001b[0m\n\u001b[0;32m---> 47\u001b[0;31m         \u001b[0;32mreturn\u001b[0m \u001b[0mself\u001b[0m\u001b[0;34m.\u001b[0m\u001b[0mcollate_fn\u001b[0m\u001b[0;34m(\u001b[0m\u001b[0mdata\u001b[0m\u001b[0;34m)\u001b[0m\u001b[0;34m\u001b[0m\u001b[0;34m\u001b[0m\u001b[0m\n\u001b[0m",
      "\u001b[0;32m~/.local/lib/python3.8/site-packages/torch/utils/data/_utils/collate.py\u001b[0m in \u001b[0;36mdefault_collate\u001b[0;34m(batch)\u001b[0m\n\u001b[1;32m     77\u001b[0m     \u001b[0;32melif\u001b[0m \u001b[0misinstance\u001b[0m\u001b[0;34m(\u001b[0m\u001b[0melem\u001b[0m\u001b[0;34m,\u001b[0m \u001b[0mcontainer_abcs\u001b[0m\u001b[0;34m.\u001b[0m\u001b[0mSequence\u001b[0m\u001b[0;34m)\u001b[0m\u001b[0;34m:\u001b[0m\u001b[0;34m\u001b[0m\u001b[0;34m\u001b[0m\u001b[0m\n\u001b[1;32m     78\u001b[0m         \u001b[0mtransposed\u001b[0m \u001b[0;34m=\u001b[0m \u001b[0mzip\u001b[0m\u001b[0;34m(\u001b[0m\u001b[0;34m*\u001b[0m\u001b[0mbatch\u001b[0m\u001b[0;34m)\u001b[0m\u001b[0;34m\u001b[0m\u001b[0;34m\u001b[0m\u001b[0m\n\u001b[0;32m---> 79\u001b[0;31m         \u001b[0;32mreturn\u001b[0m \u001b[0;34m[\u001b[0m\u001b[0mdefault_collate\u001b[0m\u001b[0;34m(\u001b[0m\u001b[0msamples\u001b[0m\u001b[0;34m)\u001b[0m \u001b[0;32mfor\u001b[0m \u001b[0msamples\u001b[0m \u001b[0;32min\u001b[0m \u001b[0mtransposed\u001b[0m\u001b[0;34m]\u001b[0m\u001b[0;34m\u001b[0m\u001b[0;34m\u001b[0m\u001b[0m\n\u001b[0m\u001b[1;32m     80\u001b[0m \u001b[0;34m\u001b[0m\u001b[0m\n\u001b[1;32m     81\u001b[0m     \u001b[0;32mraise\u001b[0m \u001b[0mTypeError\u001b[0m\u001b[0;34m(\u001b[0m\u001b[0mdefault_collate_err_msg_format\u001b[0m\u001b[0;34m.\u001b[0m\u001b[0mformat\u001b[0m\u001b[0;34m(\u001b[0m\u001b[0melem_type\u001b[0m\u001b[0;34m)\u001b[0m\u001b[0;34m)\u001b[0m\u001b[0;34m\u001b[0m\u001b[0;34m\u001b[0m\u001b[0m\n",
      "\u001b[0;32m~/.local/lib/python3.8/site-packages/torch/utils/data/_utils/collate.py\u001b[0m in \u001b[0;36m<listcomp>\u001b[0;34m(.0)\u001b[0m\n\u001b[1;32m     77\u001b[0m     \u001b[0;32melif\u001b[0m \u001b[0misinstance\u001b[0m\u001b[0;34m(\u001b[0m\u001b[0melem\u001b[0m\u001b[0;34m,\u001b[0m \u001b[0mcontainer_abcs\u001b[0m\u001b[0;34m.\u001b[0m\u001b[0mSequence\u001b[0m\u001b[0;34m)\u001b[0m\u001b[0;34m:\u001b[0m\u001b[0;34m\u001b[0m\u001b[0;34m\u001b[0m\u001b[0m\n\u001b[1;32m     78\u001b[0m         \u001b[0mtransposed\u001b[0m \u001b[0;34m=\u001b[0m \u001b[0mzip\u001b[0m\u001b[0;34m(\u001b[0m\u001b[0;34m*\u001b[0m\u001b[0mbatch\u001b[0m\u001b[0;34m)\u001b[0m\u001b[0;34m\u001b[0m\u001b[0;34m\u001b[0m\u001b[0m\n\u001b[0;32m---> 79\u001b[0;31m         \u001b[0;32mreturn\u001b[0m \u001b[0;34m[\u001b[0m\u001b[0mdefault_collate\u001b[0m\u001b[0;34m(\u001b[0m\u001b[0msamples\u001b[0m\u001b[0;34m)\u001b[0m \u001b[0;32mfor\u001b[0m \u001b[0msamples\u001b[0m \u001b[0;32min\u001b[0m \u001b[0mtransposed\u001b[0m\u001b[0;34m]\u001b[0m\u001b[0;34m\u001b[0m\u001b[0;34m\u001b[0m\u001b[0m\n\u001b[0m\u001b[1;32m     80\u001b[0m \u001b[0;34m\u001b[0m\u001b[0m\n\u001b[1;32m     81\u001b[0m     \u001b[0;32mraise\u001b[0m \u001b[0mTypeError\u001b[0m\u001b[0;34m(\u001b[0m\u001b[0mdefault_collate_err_msg_format\u001b[0m\u001b[0;34m.\u001b[0m\u001b[0mformat\u001b[0m\u001b[0;34m(\u001b[0m\u001b[0melem_type\u001b[0m\u001b[0;34m)\u001b[0m\u001b[0;34m)\u001b[0m\u001b[0;34m\u001b[0m\u001b[0;34m\u001b[0m\u001b[0m\n",
      "\u001b[0;32m~/.local/lib/python3.8/site-packages/torch/utils/data/_utils/collate.py\u001b[0m in \u001b[0;36mdefault_collate\u001b[0;34m(batch)\u001b[0m\n\u001b[1;32m     53\u001b[0m             \u001b[0mstorage\u001b[0m \u001b[0;34m=\u001b[0m \u001b[0melem\u001b[0m\u001b[0;34m.\u001b[0m\u001b[0mstorage\u001b[0m\u001b[0;34m(\u001b[0m\u001b[0;34m)\u001b[0m\u001b[0;34m.\u001b[0m\u001b[0m_new_shared\u001b[0m\u001b[0;34m(\u001b[0m\u001b[0mnumel\u001b[0m\u001b[0;34m)\u001b[0m\u001b[0;34m\u001b[0m\u001b[0;34m\u001b[0m\u001b[0m\n\u001b[1;32m     54\u001b[0m             \u001b[0mout\u001b[0m \u001b[0;34m=\u001b[0m \u001b[0melem\u001b[0m\u001b[0;34m.\u001b[0m\u001b[0mnew\u001b[0m\u001b[0;34m(\u001b[0m\u001b[0mstorage\u001b[0m\u001b[0;34m)\u001b[0m\u001b[0;34m\u001b[0m\u001b[0;34m\u001b[0m\u001b[0m\n\u001b[0;32m---> 55\u001b[0;31m         \u001b[0;32mreturn\u001b[0m \u001b[0mtorch\u001b[0m\u001b[0;34m.\u001b[0m\u001b[0mstack\u001b[0m\u001b[0;34m(\u001b[0m\u001b[0mbatch\u001b[0m\u001b[0;34m,\u001b[0m \u001b[0;36m0\u001b[0m\u001b[0;34m,\u001b[0m \u001b[0mout\u001b[0m\u001b[0;34m=\u001b[0m\u001b[0mout\u001b[0m\u001b[0;34m)\u001b[0m\u001b[0;34m\u001b[0m\u001b[0;34m\u001b[0m\u001b[0m\n\u001b[0m\u001b[1;32m     56\u001b[0m     \u001b[0;32melif\u001b[0m \u001b[0melem_type\u001b[0m\u001b[0;34m.\u001b[0m\u001b[0m__module__\u001b[0m \u001b[0;34m==\u001b[0m \u001b[0;34m'numpy'\u001b[0m \u001b[0;32mand\u001b[0m \u001b[0melem_type\u001b[0m\u001b[0;34m.\u001b[0m\u001b[0m__name__\u001b[0m \u001b[0;34m!=\u001b[0m \u001b[0;34m'str_'\u001b[0m\u001b[0;31m \u001b[0m\u001b[0;31m\\\u001b[0m\u001b[0;34m\u001b[0m\u001b[0;34m\u001b[0m\u001b[0m\n\u001b[1;32m     57\u001b[0m             \u001b[0;32mand\u001b[0m \u001b[0melem_type\u001b[0m\u001b[0;34m.\u001b[0m\u001b[0m__name__\u001b[0m \u001b[0;34m!=\u001b[0m \u001b[0;34m'string_'\u001b[0m\u001b[0;34m:\u001b[0m\u001b[0;34m\u001b[0m\u001b[0;34m\u001b[0m\u001b[0m\n",
      "\u001b[0;31mKeyboardInterrupt\u001b[0m: "
     ]
    }
   ],
   "source": [
    "ps = []\n",
    "# Standardized parameters\n",
    "batch_size = 100\n",
    "learning_rate = 0.01\n",
    "epochs = 30\n",
    "\n",
    "# Short term parameters\n",
    "seq_len = 6\n",
    "pred_len = 3\n",
    "\n",
    "# Long term parameters\n",
    "#seq_len = 432\n",
    "#pred_len = 216\n",
    "\n",
    "# Varies hyper parameters being measured\n",
    "for num_layers in range(1, 5, 1):\n",
    "    for dropout in np.linspace(0,1,11):\n",
    "        for hidden_size in [2, 5, 10, 20]:\n",
    "            ps.append(Parameters(num_layers, hidden_size, batch_size, seq_len, pred_len, epochs, learning_rate, dropout))\n",
    "\n",
    "\n",
    "for params in tqdm(ps):\n",
    "    columns = ['MAE', 'RMSE', 'MAPE', 'MEAN_MAE', 'MEAN_RMSE', 'MEAN_MAPE', 'NAIVE_MAE', 'NAIVE_RMSE', 'NAIVE_MAPE']\n",
    "    df = pd.DataFrame(columns = columns, dtype=np.float64)\n",
    "    for i, state in enumerate(listdir(\"samples/\")):\n",
    "        # Load Data\n",
    "        data = Data()\n",
    "        data.name = state.replace(\".csv\", \"\")\n",
    "        training_set = readData(\"samples/\"+state, freq=20)\n",
    "        generateData(training_set, data, params)\n",
    "        \n",
    "        # Generate Naives\n",
    "        naives  = generateNaive(data, params)\n",
    "        \n",
    "        # Train Model\n",
    "        model = train(data, params, print_every=-1)\n",
    "        \n",
    "        # Test Model\n",
    "        preds, labels = test(model, data, params, show_plot=False)\n",
    "        \n",
    "        # Store Results\n",
    "        err_results = print_errors(preds, labels)\n",
    "        for naive in naives[2:]: # stores only local naive models\n",
    "            err_results.extend(print_errors(naive, labels))\n",
    "        row_df = pd.DataFrame([err_results], index = [state.replace(\".csv\", \"\")], columns = columns, dtype=np.float64)\n",
    "        df = pd.concat([row_df, df])\n",
    "        #print(\"{} - MAE ({}) - MAPE ({})\".format(state.replace(\".csv\", \"\"), round(err_results[0], 2), round(err_results[2], 2)))\n",
    "    \n",
    "    df.to_csv(\"lstm-out/{}.csv\".format(params))\n"
   ]
  },
  {
   "cell_type": "code",
   "execution_count": null,
   "metadata": {},
   "outputs": [],
   "source": []
  }
 ],
 "metadata": {
  "colab": {
   "collapsed_sections": [],
   "name": "CPU_LSTM.ipynb",
   "provenance": []
  },
  "kernelspec": {
   "display_name": "Python 3",
   "language": "python",
   "name": "python3"
  },
  "language_info": {
   "codemirror_mode": {
    "name": "ipython",
    "version": 3
   },
   "file_extension": ".py",
   "mimetype": "text/x-python",
   "name": "python",
   "nbconvert_exporter": "python",
   "pygments_lexer": "ipython3",
   "version": "3.8.2"
  }
 },
 "nbformat": 4,
 "nbformat_minor": 1
}
